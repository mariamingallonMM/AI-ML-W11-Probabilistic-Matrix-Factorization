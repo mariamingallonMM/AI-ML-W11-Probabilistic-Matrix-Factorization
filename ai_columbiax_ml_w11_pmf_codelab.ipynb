{
  "nbformat": 4,
  "nbformat_minor": 0,
  "metadata": {
    "colab": {
      "name": "ai-columbiax-ml-w11-pmf.ipynb",
      "provenance": [],
      "authorship_tag": "ABX9TyP+WRsyJu2p/0rDRXx9w5n6",
      "include_colab_link": true
    },
    "kernelspec": {
      "name": "python3",
      "display_name": "Python 3"
    },
    "language_info": {
      "name": "python"
    }
  },
  "cells": [
    {
      "cell_type": "markdown",
      "metadata": {
        "id": "view-in-github",
        "colab_type": "text"
      },
      "source": [
        "<a href=\"https://colab.research.google.com/github/mariamingallonMM/AI-ML-W11-Probabilistic-Matrix-Factorization/blob/main/ai_columbiax_ml_w11_pmf_codelab.ipynb\" target=\"_parent\"><img src=\"https://colab.research.google.com/assets/colab-badge.svg\" alt=\"Open In Colab\"/></a>"
      ]
    },
    {
      "cell_type": "markdown",
      "metadata": {
        "id": "y1HBMEIlGHa4"
      },
      "source": [
        "#Introduction\n",
        "This notebook demonstrates the use of probabilistic matrix factorization (PMF) model which works as follows:\n",
        "\n",
        "* fills in the values of a missing matrix M,\n",
        "* where Mij is an observed value if (i,j)∈Ω and\n",
        "* where Ω contains the measured pairs.\n",
        "\n",
        "The goal of PMF is to factorize the M matrix into a product between vectors such that Mij ≈ uTi vj, where each ui,vj∈Rd. The modeling problem is to learn ui for i=1,…,Nu and vj for j=1,…,Nv by maximizing the objective function, which can be formulated as follows:\n",
        "\n",
        "L=−∑(i,j)∈Ω12σ2(Mij−uTivj)2−∑Nui=1λ2∥ui∥2−∑Nvj=1λ2∥vj∥2]\n",
        "\n",
        "For this assignment we are asked to set d, sigma and lambda to a particular value as follows:\n",
        "\n",
        "d=5, dimensions of the rank\n",
        "σ2=1/10, covariance of Gaussian distribution\n",
        "λ=2, lambda of Gaussian distribution\n",
        "It is also available on GitHub at: https://github.com/mariamingallonMM/AI-ML-W11-Probabilistic-Matrix-Factorization\n",
        "\n",
        "#How it works\n",
        "Probabilistic Matrix Factorization (PMF) is used commonly for collaborative filtering. The latter is used as an alternative to content-based filtering when there is not enough information provided by a user to make suggestions. While content-based filtering makes use of the user's explicitly expressed preferences, collaborative filtering** uses the history data provided by a group of users with similar preferences to make elicit recommendations.\n",
        "\n",
        "Whereas in content-based filering we expect for a given user to build a profile that clearly states preferences, in collaborative-filtering this information may not be fully available, but we expect our system to still be able to make recommendations based on evidence that similar users provide.\n",
        "\n",
        "The following is how we have implemented Probabilistic Matrix Factorization for building a movie recommendation system using collaborative filtering:\n",
        "\n",
        "Transform input ratings.csv to M matrix, of n rows and m columns, where each row is a user and each column is a movie. Where we don't have data, we will use a '0' instead of NaN. Users and movies shall be indexed from 1 (not '0').\n",
        "We estimate the M matrix by using two low-rank matrices U and V as: M = UT x V, where: a. UT is the transposed matrix of U. UT is an n x d matrix, where n is the number of users (rows of M), and d is the rank (d fixed to 5 in this assignment). b. V is a d x m matrix, where m is the number of movies to rate (columns in M).\n",
        "\n",
        "We will use MAP inference coordinate ascent algorithm to estimate the missing ratings of 5 users for 5 movies not already rated in the starting dataset.\n",
        "First, we will initialize each vj with a normal distribution of zero mean and covariance equal to the inverse of lambda multiplied by the identity matrix.\n",
        "For each iteration, we update ui and then vj.\n",
        "\n",
        "The PMF algorithm must learn 5 dimensions (d=5) and shall be run for 50 iterations."
      ]
    },
    {
      "cell_type": "code",
      "metadata": {
        "id": "WbH29ESTDmNj"
      },
      "source": [
        "import sys\n",
        "import os\n",
        "import math\n",
        "from random import randrange\n",
        "import functools\n",
        "import operator\n",
        "import requests\n",
        "import psutil\n",
        "\n",
        "# 3rd party modules\n",
        "import numpy as np # linear algebra\n",
        "import pandas as pd # data processing, CSV file I/O (e.g. pd.read_csv)\n",
        "import scipy as sp\n",
        "from scipy.cluster.vq import kmeans2\n",
        "from scipy.stats import multivariate_normal\n",
        "from scipy.spatial.distance import cdist\n",
        "from scipy.special import logsumexp\n",
        "from scipy import stats\n",
        "\n",
        "# Input data files are available in the \"../input/\" directory.\n",
        "# For example, running this (by clicking run or pressing Shift+Enter) will list all files under the input directory\n",
        "\n",
        "import os\n",
        "for dirname, _, filenames in os.walk('/kaggle/input'):\n",
        "    for filename in filenames:\n",
        "        print(os.path.join(dirname, filename))\n",
        "\n",
        "# Any results you write to the current directory are saved as output.\n",
        "\n",
        "from IPython.display import HTML"
      ],
      "execution_count": 14,
      "outputs": []
    },
    {
      "cell_type": "markdown",
      "metadata": {
        "id": "Ks4e-sNrGH6F"
      },
      "source": [
        "##Step 1: Import the dataset\n",
        "The input csv file ('ratings.csv') is a comma separated file containing three columns: user_index, object_index, and rating."
      ]
    },
    {
      "cell_type": "code",
      "metadata": {
        "id": "-_9WftbEHDI-"
      },
      "source": [
        "def get_data(filename, **kwargs):\n",
        "    \"\"\"\n",
        "    Read data from a file given its name. Option to provide the path to the file if different from: [./datasets/in].\n",
        "    ------------\n",
        "    Parameters:\n",
        "    - filename: name of the file to be read, to get the data from.\n",
        "    - kwargs (optional): \n",
        "        - 'headers': list of str for the headers to include in the outputs file created\n",
        "        - 'path': str of the path to where the file is read, specified if different from default ([./datasets/in])\n",
        "    ------------\n",
        "    Returns:\n",
        "    - df: a dataframe of the data\n",
        "    - users: list of the users ids\n",
        "    - objects: list of the objects ids\n",
        "\n",
        "    \"\"\"\n",
        "    \n",
        "    # Define input filepath\n",
        "    if 'path' in kwargs:\n",
        "        filepath = kwargs['path']\n",
        "    else:\n",
        "        filepath = os.path.join(os.getcwd(),'datasets','out')\n",
        "\n",
        "    input_path = os.path.join(filepath, filename)\n",
        "\n",
        "    # If provided, use the title of the columns in the input dataset as headers of the dataframe\n",
        "    if 'headers' in kwargs:\n",
        "        # Read input data\n",
        "        df = pd.read_csv(input_path, names = kwargs['headers'])\n",
        "    else:\n",
        "        # Read input data\n",
        "        df = pd.read_csv(input_path)\n",
        "       \n",
        "    return df"
      ],
      "execution_count": 15,
      "outputs": []
    },
    {
      "cell_type": "markdown",
      "metadata": {
        "id": "SNm5CReKHDqJ"
      },
      "source": [
        "Call the function get_data to read the dataset\n",
        "\n"
      ]
    },
    {
      "cell_type": "code",
      "metadata": {
        "colab": {
          "base_uri": "https://localhost:8080/",
          "height": 203
        },
        "id": "Pnzqh6z1HEJR",
        "outputId": "3509a630-58b9-4b16-ce38-955506e64cbe"
      },
      "source": [
        "\n",
        "train_data = get_data('ratings_sample.csv', path = \"/content/input/movieratings/datasets/\", headers=['user_id', 'movie_id', 'rating'])\n",
        "train_data.head()"
      ],
      "execution_count": 16,
      "outputs": [
        {
          "output_type": "execute_result",
          "data": {
            "text/html": [
              "<div>\n",
              "<style scoped>\n",
              "    .dataframe tbody tr th:only-of-type {\n",
              "        vertical-align: middle;\n",
              "    }\n",
              "\n",
              "    .dataframe tbody tr th {\n",
              "        vertical-align: top;\n",
              "    }\n",
              "\n",
              "    .dataframe thead th {\n",
              "        text-align: right;\n",
              "    }\n",
              "</style>\n",
              "<table border=\"1\" class=\"dataframe\">\n",
              "  <thead>\n",
              "    <tr style=\"text-align: right;\">\n",
              "      <th></th>\n",
              "      <th>user_id</th>\n",
              "      <th>movie_id</th>\n",
              "      <th>rating</th>\n",
              "    </tr>\n",
              "  </thead>\n",
              "  <tbody>\n",
              "    <tr>\n",
              "      <th>0</th>\n",
              "      <td>1.0</td>\n",
              "      <td>181.0</td>\n",
              "      <td>-0.249054</td>\n",
              "    </tr>\n",
              "    <tr>\n",
              "      <th>1</th>\n",
              "      <td>1.0</td>\n",
              "      <td>353.0</td>\n",
              "      <td>0.390805</td>\n",
              "    </tr>\n",
              "    <tr>\n",
              "      <th>2</th>\n",
              "      <td>1.0</td>\n",
              "      <td>136.0</td>\n",
              "      <td>-1.674198</td>\n",
              "    </tr>\n",
              "    <tr>\n",
              "      <th>3</th>\n",
              "      <td>1.0</td>\n",
              "      <td>277.0</td>\n",
              "      <td>-0.226196</td>\n",
              "    </tr>\n",
              "    <tr>\n",
              "      <th>4</th>\n",
              "      <td>1.0</td>\n",
              "      <td>187.0</td>\n",
              "      <td>1.193406</td>\n",
              "    </tr>\n",
              "  </tbody>\n",
              "</table>\n",
              "</div>"
            ],
            "text/plain": [
              "   user_id  movie_id    rating\n",
              "0      1.0     181.0 -0.249054\n",
              "1      1.0     353.0  0.390805\n",
              "2      1.0     136.0 -1.674198\n",
              "3      1.0     277.0 -0.226196\n",
              "4      1.0     187.0  1.193406"
            ]
          },
          "metadata": {
            "tags": []
          },
          "execution_count": 16
        }
      ]
    },
    {
      "cell_type": "markdown",
      "metadata": {
        "id": "pZOS_WUrHPOs"
      },
      "source": [
        "##Define main PMF function¶\n"
      ]
    },
    {
      "cell_type": "code",
      "metadata": {
        "id": "2yCpTKrSHTca"
      },
      "source": [
        "def PMF(train_data, headers = ['user_id', 'movie_id'], lam:int = 2, sigma2:float = 0.1, d:int = 5, iterations:int = 50, output_iterations:list=[10,25,50]):\n",
        "    \"\"\"\n",
        "    Implements Probabilistic Matrix Factorization.\n",
        "\n",
        "    ------------\n",
        "    Parameters:\n",
        "\n",
        "    - data: dataset used for training (e.g. the ratings.csv dataset with missing values for users and movies).\n",
        "    - headers: title of the headers in the dataset for the 'users id' and 'movie id' values.\n",
        "    - lam: lambda value to initialise the Gaussian zero mean distribution (default lam = 2 for this assignment).\n",
        "    - sigma2: covariance of the Gaussian (default sigma2 = 0.1 for this assignment).\n",
        "    - d: number of dimensions for the ranking, (default d = 5 for this assignment).\n",
        "    - iterations: number of iterations to run PMF for (default, 50 iterations).\n",
        "    \n",
        "    ------------\n",
        "    Returns:\n",
        "\n",
        "    - L: Loss\n",
        "    - U_matrices: matrices of users\n",
        "    - V_matrices: matrices of objects\n",
        "\n",
        "    \"\"\"\n",
        "\n",
        "    L_results = []\n",
        "    U_matrices = {}\n",
        "    V_matrices = {}\n",
        "    log_aps = []\n",
        "\n",
        "    # first convert dataframe to the ratings matrix as a sparse matrix\n",
        "    M, n, m, users, objects, rows, cols = df_to_ratings_matrix(train_data, headers = headers)\n",
        "\n",
        "    parameters = initialize_parameters(lam, n, m, d)\n",
        "\n",
        "    for i in range(1, iterations + 1):\n",
        "        new_parameters = update_parameters(M, parameters, lam, n, m, d)\n",
        "        log_ap = log_a_posteriori(M, parameters)\n",
        "        L_results.append(log_ap)\n",
        "\n",
        "        if i in output_iterations:\n",
        "            print('Log p a-posteriori at iteration ', i, ':', log_ap)\n",
        "            U_matrices[i] = new_parameters['U']\n",
        "            V_matrices[i] = new_parameters['V']\n",
        "\n",
        "    return L_results, U_matrices, V_matrices, users, objects, new_parameters, M, rows, cols"
      ],
      "execution_count": 17,
      "outputs": []
    },
    {
      "cell_type": "markdown",
      "metadata": {
        "id": "iTz0hoyRHXt_"
      },
      "source": [
        "##Define helpers of PMF main function¶\n",
        "Initialize our parameters (U, V, lambda_U and lambda_V).\n",
        "\n",
        "\n"
      ]
    },
    {
      "cell_type": "code",
      "metadata": {
        "id": "VI2xesPlHnip"
      },
      "source": [
        "def initialize_parameters(lam, n, m, d):\n",
        "    \"\"\"\n",
        "    Initializes our parameters. First the V matrix as a random Gaussian zero mean distribution from a given lambda.\n",
        "    \n",
        "    ------------\n",
        "    Parameters:\n",
        "\n",
        "    - lam: lambda value to initialise the Gaussian zero mean distribution (default lam = 2 for this assignment).\n",
        "    - n: number of users in dataset\n",
        "    - m: number of movies in dataset\n",
        "    - d: number of dimensions for the ranking, (default d = 5 for this assignment).\n",
        "\n",
        "    ------------\n",
        "    Returns:\n",
        "    \n",
        "    - parameters: a dictionary with the values for: \n",
        "        - U: matrix of users\n",
        "        - V: matrix of objects (movies in this case)\n",
        "        - lambda_U: value of lambda, per the inputs\n",
        "        - lambda_V: value of lambda, per the inputs\n",
        "\n",
        "    \"\"\"\n",
        "\n",
        "    U = np.zeros((d, n), dtype=np.float64)\n",
        "    V = np.random.normal(0.0, 1.0 / lam, (d, m))\n",
        "    \n",
        "    parameters = {}\n",
        "\n",
        "    parameters['U'] = U\n",
        "    parameters['V'] = V\n",
        "    parameters['lambda_U'] = lam\n",
        "    parameters['lambda_V'] = lam\n",
        "    \n",
        "    return parameters"
      ],
      "execution_count": 18,
      "outputs": []
    },
    {
      "cell_type": "markdown",
      "metadata": {
        "id": "rsLgIP_CHt8b"
      },
      "source": [
        "Updates the parameters U and V while the iterative PMF function is running"
      ]
    },
    {
      "cell_type": "code",
      "metadata": {
        "id": "o5DgAKICHrPM"
      },
      "source": [
        "def update_parameters(M, parameters, lam, n, m, d):\n",
        "    \"\"\"\n",
        "    Implements the function that updates U and V.\n",
        "\n",
        "    ------------\n",
        "    Parameters:\n",
        "    \n",
        "    - M: the ratings matrix, as sparse (zeros used to fill the nan, missing values)   \n",
        "    - parameters: a dictionary with the values for: \n",
        "        - U: matrix of users\n",
        "        - V: matrix of objects (movies in this case)\n",
        "        - lambda_U: value of lambda, per the inputs\n",
        "        - lambda_V: value of lambda, per the inputs    \n",
        "    - lam: lambda value to initialise the Gaussian zero mean distribution (default lam = 2 for this assignment).\n",
        "    - n: number of users in dataset\n",
        "    - m: number of movies in dataset\n",
        "    - d: number of dimensions for the ranking, (default d = 5 for this assignment).\n",
        "    \n",
        "    ------------\n",
        "    Returns:\n",
        "\n",
        "    - parameters: a dictionary with the values for: \n",
        "        - U: matrix of users\n",
        "        - V: matrix of objects (movies in this case)\n",
        "        - lambda_U: value of lambda, per the inputs\n",
        "        - lambda_V: value of lambda, per the inputs\n",
        "\n",
        "    \"\"\"\n",
        "\n",
        "    U = parameters['U']\n",
        "    V = parameters['V']\n",
        "    lambda_U = parameters['lambda_U']\n",
        "    lambda_V = parameters['lambda_V']\n",
        "\n",
        "    \n",
        "    for i in range(n):\n",
        "        V_j = V[:, M[i, :] > 0]\n",
        "        U[:, i] = np.dot(np.linalg.inv(np.dot(V_j, V_j.T) + lambda_U * np.identity(d)), np.dot(M[i, M[i, :] > 0], V_j.T))\n",
        "        \n",
        "    for j in range(m):\n",
        "        U_i = U[:, M[:, j] > 0]\n",
        "        V[:, j] = np.dot(np.linalg.inv(np.dot(U_i, U_i.T) + lambda_V * np.identity(d)), np.dot(M[M[:, j] > 0, j], U_i.T))\n",
        "        \n",
        "    parameters['U'] = U\n",
        "    parameters['V'] = V\n",
        "\n",
        "    min_rating = np.min(M)\n",
        "    max_rating = np.max(M)\n",
        "\n",
        "    return parameters"
      ],
      "execution_count": 19,
      "outputs": []
    },
    {
      "cell_type": "markdown",
      "metadata": {
        "id": "9OKwi40_H1nr"
      },
      "source": [
        "Calculate the log-a posteriori (L)\n",
        "\n"
      ]
    },
    {
      "cell_type": "code",
      "metadata": {
        "id": "7LTMYaXiH5jp"
      },
      "source": [
        "def log_a_posteriori(M, parameters):\n",
        "    \"\"\"\n",
        "    Implements the Log-a posteriori with equation as follows:\n",
        "    \n",
        "    L=-\\frac 1 2 \\left(\\sum_{i=1}^N\\sum_{j=1}^M(R_{ij}-U_i^TV_j)_{(i,j) \\in \\Omega_{R_{ij}}}^2+\\lambda_U\\sum_{i=1}^N\\|U_i\\|_{Fro}^2+\\lambda_V\\sum_{j=1}^M\\|V_j\\|_{Fro}^2\\right)\n",
        "\n",
        "    ------------\n",
        "    Parameters:\n",
        "    \n",
        "    - M: the ratings matrix, as sparse (zeros used to fill the nan, missing values)\n",
        "    - parameters: a dictionary with the values for: \n",
        "        - U: matrix of users\n",
        "        - V: matrix of objects (movies in this case)\n",
        "        - lambda_U: value of lambda, per the inputs\n",
        "        - lambda_V: value of lambda, per the inputs\n",
        "        \n",
        "    ------------\n",
        "    Returns:\n",
        "    \n",
        "    - L: the resulting float number from the above equation of 'L'\n",
        "\n",
        "    \"\"\"\n",
        "\n",
        "    lambda_U = parameters['lambda_U']\n",
        "    lambda_V = parameters['lambda_V']\n",
        "    U = parameters['U']\n",
        "    V = parameters['V']\n",
        "    \n",
        "    UV = np.dot(U.T, V)\n",
        "    M_UV = (M[M > 0] - UV[M > 0])\n",
        "    \n",
        "    L = -0.5 * (np.sum(np.dot(M_UV, M_UV.T)) + lambda_U * np.sum(np.dot(U, U.T)) + lambda_V * np.sum(np.dot(V, V.T)))\n",
        "    \n",
        "    return L"
      ],
      "execution_count": 20,
      "outputs": []
    },
    {
      "cell_type": "code",
      "metadata": {
        "id": "jkkt7W86H8Fa"
      },
      "source": [
        "def save_outputs_txt(data, output_iterations:list = [5, 10, 25]):\n",
        "    \"\"\"\n",
        "    Write the outputs to csv files.\n",
        "\n",
        "    ------------\n",
        "    Parameters:\n",
        "\n",
        "    - data: a list of the resulting matrixes to write as outputs.\n",
        "    - output_iterations: the iterations to store as output csv files for the U and V matrixes.\n",
        "    \n",
        "    ------------\n",
        "    Returns:\n",
        "\n",
        "    - csv files with the output data\n",
        "\n",
        "    \"\"\"\n",
        "\n",
        "    L_results = data[0]\n",
        "    np.savetxt(\"objective.csv\", L_results, delimiter=\",\")\n",
        "\n",
        "    U_results = data[1]\n",
        "    V_results = data[2]\n",
        "\n",
        "    for i in output_iterations:\n",
        "        filename = \"U-\" + str(i) + \".csv\"\n",
        "        np.savetxt(filename, U_results[i].T, delimiter=\",\")\n",
        "        filename = \"V-\" + str(i) + \".csv\"\n",
        "        np.savetxt(filename, V_results[i].T, delimiter=\",\")\n",
        "\n",
        "    return"
      ],
      "execution_count": 21,
      "outputs": []
    },
    {
      "cell_type": "code",
      "metadata": {
        "id": "iQHggTyeH_e1"
      },
      "source": [
        "def df_to_ratings_matrix(df, **kwargs):\n",
        "    \"\"\"\n",
        "    Converts a given dataframe to a sparse matrix, in this case the M ratings matrix.\n",
        "\n",
        "    ------------\n",
        "    Parameters:\n",
        "\n",
        "    - df: dataframe used for training (e.g. the ratings.csv dataset with missing values for users and movies).\n",
        "    - headers (optional): title of the headers in the dataset for the 'users id' and 'movie id' values.\n",
        "   \n",
        "    ------------\n",
        "    Returns:\n",
        "\n",
        "    - M: the ratings matrix, as sparse (zeros used to fill the nan, missing values)\n",
        "    - n: number of rows\n",
        "    - m: number of columns\n",
        "    - users: list of unique users\n",
        "    - movies: list of unique movies\n",
        "    - rows: rows of the matrix M\n",
        "    - cols: columns of the matrix M\n",
        "    \n",
        "    \"\"\"\n",
        "\n",
        "    df = df.dropna(how='all')\n",
        "\n",
        "    if 'headers' in kwargs:\n",
        "        headers = kwargs['headers']\n",
        "        users_header = headers[0]\n",
        "        movies_header = headers[1]\n",
        "    else:\n",
        "        users_header = 'user_id'\n",
        "        movies_header = 'movie_id'\n",
        "\n",
        "\n",
        "    users = df[users_header].unique()\n",
        "    movies = df[movies_header].unique()\n",
        "    df_values = df.values\n",
        "   \n",
        "    # initialise M ratings matrix as a sparse matrix of zeros\n",
        "    M = np.zeros((len(users), len(movies)))\n",
        "\n",
        "    rows = {}\n",
        "    cols = {}\n",
        "\n",
        "    for i, user_id in enumerate(users):\n",
        "        rows[user_id] = i\n",
        "\n",
        "    for j, movie_id in enumerate(movies):\n",
        "        cols[movie_id] = j\n",
        "    \n",
        "    for index, row in df.iterrows():\n",
        "        i = rows[row.user_id]\n",
        "        j = cols[row.movie_id]\n",
        "        M[i, j] = row.rating\n",
        "    \n",
        "    n = len(users) #number of rows\n",
        "    m = len(movies) #number of columns\n",
        "    \n",
        "    return M, n, m, users, movies, rows, cols"
      ],
      "execution_count": 22,
      "outputs": []
    },
    {
      "cell_type": "markdown",
      "metadata": {
        "id": "rjWZKHbAICAj"
      },
      "source": [
        "#Predictions\n",
        "Define the prediction function and the function to obtain a dataframe with the prediction"
      ]
    },
    {
      "cell_type": "code",
      "metadata": {
        "id": "bADYxyRVIDwm"
      },
      "source": [
        "def predict(M, rows, cols, parameters, user_id, movie_id):\n",
        "    \"\"\"\n",
        "    Predicts the rating value. Note the value has been scaled within the range 0-5.\n",
        "\n",
        "    ------------\n",
        "    Parameters:\n",
        "\n",
        "    - M: the ratings matrix, as sparse (zeros used to fill the nan, missing values)   \n",
        "    - rows: rows of the matrix M\n",
        "    - cols: columns of the matrix M\n",
        "    - parameters: a dictionary with the values for: \n",
        "        - U: matrix of users\n",
        "        - V: matrix of objects (movies in this case)\n",
        "        - lambda_U: value of lambda, per the inputs\n",
        "        - lambda_V: value of lambda, per the inputs\n",
        "    - user_id: id of the users being examined\n",
        "    - movie_id: id of the objects being rated\n",
        "   \n",
        "    ------------\n",
        "    Returns:\n",
        "    \n",
        "    - rating: a float number of the predicted rating for the object and user pair\n",
        "\n",
        "    \"\"\"\n",
        "\n",
        "    U = parameters['U']\n",
        "    V = parameters['V']\n",
        "    \n",
        "    M_ij = U[:, rows[user_id]].T.reshape(1, -1) @ V[:, cols[movie_id]].reshape(-1, 1)\n",
        "\n",
        "    min_rating = np.min(M)\n",
        "    max_rating = np.max(M)\n",
        "\n",
        "    return 0 if max_rating == min_rating else ((M_ij[0][0] - min_rating) / (max_rating - min_rating)) * 5.0\n",
        "\n",
        "\n",
        "def get_prediction(user_id, movies, M, rows, cols, parameters):\n",
        "    \"\"\"\n",
        "    Obtain a dataframe of users Ids, movies Ids and the predicted rating for a given user Id.\n",
        "    \n",
        "    ------------\n",
        "    Parameters:\n",
        "\n",
        "    - user_id: the id of the user being examined\n",
        "    - movies: the list of unique movie Ids\n",
        "    - M: the ratings matrix, as sparse (zeros used to fill the nan, missing values)   \n",
        "    - rows: rows of the matrix M\n",
        "    - cols: columns of the matrix M\n",
        "    - parameters: a dictionary with the values for: \n",
        "        - U: matrix of users\n",
        "        - V: matrix of objects (movies in this case)\n",
        "        - lambda_U: value of lambda, per the inputs\n",
        "        - lambda_V: value of lambda, per the inputs\n",
        "\n",
        "    ------------\n",
        "    Returns:\n",
        "    \n",
        "    - df_result: a dataframe of users Ids, movies Ids and the predicted rating for a given user Id\n",
        "    \n",
        "    \"\"\"\n",
        "\n",
        "    predictions = np.zeros((len(movies), 1))\n",
        "    df_result = pd.DataFrame(columns=['UserID', 'MovieID', 'Prediction'])\n",
        "\n",
        "    for i, movie_id in enumerate(movies):\n",
        "        predictions[i] = predict(M, rows, cols, new_parameters, user_id, movie_id)\n",
        "        df_row = pd.DataFrame({\n",
        "            'UserID': user_id,\n",
        "            'MovieID': movie_id,\n",
        "            'Prediction': predictions[i]\n",
        "            })\n",
        "        df_result = df_result.append(df_row, sort=False)\n",
        "    \n",
        "    return df_result"
      ],
      "execution_count": 23,
      "outputs": []
    },
    {
      "cell_type": "markdown",
      "metadata": {
        "id": "ZBgWOQobIL1E"
      },
      "source": [
        "Execute the PMF function¶\n"
      ]
    },
    {
      "cell_type": "code",
      "metadata": {
        "colab": {
          "base_uri": "https://localhost:8080/"
        },
        "id": "9hF69UvFIOQp",
        "outputId": "4bfca8ba-c1e6-4577-c6e2-0fa55f12011e"
      },
      "source": [
        "out_iterations = [10, 25, 50]\n",
        "\n",
        "# Assuming the PMF function returns Loss L, U_matrices and V_matrices\n",
        "L_results, U_matrices, V_matrices, users, movies, new_parameters, M, rows, cols = PMF(train_data, headers = ['user_id', 'movie_id'], lam = 2, sigma2 = 0.1, d = 5, iterations = 50, output_iterations = out_iterations)"
      ],
      "execution_count": 24,
      "outputs": [
        {
          "output_type": "stream",
          "text": [
            "Log p a-posteriori at iteration  10 : -114.9654576784622\n",
            "Log p a-posteriori at iteration  25 : -104.47858350032692\n",
            "Log p a-posteriori at iteration  50 : -99.99884788741527\n"
          ],
          "name": "stdout"
        }
      ]
    },
    {
      "cell_type": "code",
      "metadata": {
        "colab": {
          "base_uri": "https://localhost:8080/",
          "height": 203
        },
        "id": "J51uWOeWKwhC",
        "outputId": "e57d51f3-88ac-423a-d0f0-92b0d5c781d6"
      },
      "source": [
        "df_results = get_prediction(user_id = 5, movies = movies, M = M, rows = rows, cols = cols, parameters = new_parameters)\n",
        "df_results.head()"
      ],
      "execution_count": 25,
      "outputs": [
        {
          "output_type": "execute_result",
          "data": {
            "text/html": [
              "<div>\n",
              "<style scoped>\n",
              "    .dataframe tbody tr th:only-of-type {\n",
              "        vertical-align: middle;\n",
              "    }\n",
              "\n",
              "    .dataframe tbody tr th {\n",
              "        vertical-align: top;\n",
              "    }\n",
              "\n",
              "    .dataframe thead th {\n",
              "        text-align: right;\n",
              "    }\n",
              "</style>\n",
              "<table border=\"1\" class=\"dataframe\">\n",
              "  <thead>\n",
              "    <tr style=\"text-align: right;\">\n",
              "      <th></th>\n",
              "      <th>UserID</th>\n",
              "      <th>MovieID</th>\n",
              "      <th>Prediction</th>\n",
              "    </tr>\n",
              "  </thead>\n",
              "  <tbody>\n",
              "    <tr>\n",
              "      <th>0</th>\n",
              "      <td>5</td>\n",
              "      <td>181.0</td>\n",
              "      <td>2.384809</td>\n",
              "    </tr>\n",
              "    <tr>\n",
              "      <th>0</th>\n",
              "      <td>5</td>\n",
              "      <td>353.0</td>\n",
              "      <td>2.456096</td>\n",
              "    </tr>\n",
              "    <tr>\n",
              "      <th>0</th>\n",
              "      <td>5</td>\n",
              "      <td>136.0</td>\n",
              "      <td>2.384809</td>\n",
              "    </tr>\n",
              "    <tr>\n",
              "      <th>0</th>\n",
              "      <td>5</td>\n",
              "      <td>277.0</td>\n",
              "      <td>2.384809</td>\n",
              "    </tr>\n",
              "    <tr>\n",
              "      <th>0</th>\n",
              "      <td>5</td>\n",
              "      <td>187.0</td>\n",
              "      <td>2.602499</td>\n",
              "    </tr>\n",
              "  </tbody>\n",
              "</table>\n",
              "</div>"
            ],
            "text/plain": [
              "  UserID  MovieID  Prediction\n",
              "0      5    181.0    2.384809\n",
              "0      5    353.0    2.456096\n",
              "0      5    136.0    2.384809\n",
              "0      5    277.0    2.384809\n",
              "0      5    187.0    2.602499"
            ]
          },
          "metadata": {
            "tags": []
          },
          "execution_count": 25
        }
      ]
    },
    {
      "cell_type": "markdown",
      "metadata": {
        "id": "YXi91BrNK5uN"
      },
      "source": [
        "#Notes on data repositories\n",
        "We are using the ratings_sample.csv dataset provided with the assignment.\n",
        "#Citations & References\n",
        "PMF for Recommender Systems by Oscar Contreras Carrasco"
      ]
    }
  ]
}